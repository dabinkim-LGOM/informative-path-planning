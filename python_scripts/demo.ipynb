{
 "cells": [
  {
   "cell_type": "markdown",
   "metadata": {},
   "source": [
    "# Demo Notebook\n",
    "This notebook is intended to act as a primer and overview of the functionality found in the various libraries written for this repository. Additional comments and information can be found in the inline comments within the library scripts.\n",
    "\n",
    "As a whole, this repository is intended to be a series of functions and libraries to establish a simple, simulated mobile robot in an environment with a smooth function of interest distributed in it. This robot is gathering information about this data, and our code allows the robot to make myopic or nonmyopic planning decisions with respect to the previous observations it has made. We will use this notebook to walk you through setting up an enviroment, creating a robot, and simulating the planning actions it can take."
   ]
  },
  {
   "cell_type": "markdown",
   "metadata": {},
   "source": [
    "## Primer\n",
    "\n",
    "Several key concepts are critical to the development of this repository. This section intends to walk through some of these in order to build more detailed intuition about what the robot is doing in it's adaptive sampling regime.\n",
    "\n",
    "### Gaussian Processes\n",
    "We assume that the function distributed in the environment is smooth and Gaussian -- think geography (rolling hills), temperature plumes in water, or oil slicks. This allows us to use *Gaussian Processes* (GPs) as a model of our environment, and provides closed-form solutions for incrementally updating the robot's belief model as it explores, allowing for probabilistic predictions of values, and more.\n",
    "\n",
    "### POMDPs\n",
    "A *Partially-Observable Markov Decision Process* (POMDP) is a problem which consists of a value function (a sense of reward), a set of actions (which can be executed to accumulate reward), a set of transition probabilities (the probabiliy to actually executing an action and ending up where we anticipate), observations (which is what we get when we take an action), a set of states (which is the status of the robot between actions or transitions, and where observations can occur), and occasionally other factors like a discount factor (the idea that as we accumulate more actions, their value can decrease). To be *partially observable* means that some of the states, observations, or actions/transitions are not known to us prior to selecting an action, and we end up discovering those things along the way. For an adaptive sampling problem like ours, we assume that we always know where the robot is, but not what it will observe (as in, the environment itself is only partially observable at any action selection).\n",
    "\n",
    "### Monte Carlo Tree Search\n",
    "There are a number of ways to solve POMDP problems, and we've ultimately decided to go with a tree search. A *Monte Carlo Tree Search* (MCTS) walks through potential actions that a vehicle can take at any moment, and predicts the most fruitful chains of actions to explore based on the value function (which we're learning as we go as we take observations). The leafs in the tree search can be of one of two forms: a \"belief\" node -- that is, what the robot believes its state and the environment's state to be, and a belief-action node -- that is, what the robot believes its state and environment's state to be *after* taking an action. MCTS allows us to expand these types of leaves, using accumulated predicted value. The tree is expanded to a certain *horizon* before it determines the accumulated reward of the action sequence it has planned. It will repeat these expansions to a specific computation budget.\n",
    "\n",
    "### Quantifying Valuable Actions\n",
    "In order to select the most valueable type of action at any step, we need to select a reward function which will encourage the type of behavior we desire -- in our case, we want the robot to find, with confidence, the \"best\" or \"most optimal\" or \"largest maxima\" in the environment. You could consider this the place with the largest methane signal in a hydrothermal vent site, or the deepest canyon in a hilly landscape. While it is cananical to use a value function called the *Upper Confidence Bound* (UCB) which weighs the predicted mean and variance of a point; we've opted to use the *Maximum Value Information* (MVI) metric, inspired by work by Wang and Jegelka on [Maximum-Value Entropy Search](https://arxiv.org/pdf/1703.01968.pdf). This function explicitly weighs the entropy of the predicted maximum value to the predicted value of another state in the world. As we observe more, our estimate of the maximum-value improves (since we assume a smooth, Gaussian distribution), and our estimate of the value of a state becomes more accurate. \n",
    "\n",
    "### The Typical Routine\n",
    "The robot initially starts out with no *a priori* information -- that is, everywhere in the world looks just as good as anywhere else in the world. It selects an initially random action. It executes this action, and along the way collects true observations of the environment, and updates its belief model. At the end of the action, the robot selects a new action, now considering the updated belief model. It continues this pattern until some termination is reached (either it has exhausted a time or computation budget, or perhaps it has converged on a desired state). "
   ]
  },
  {
   "cell_type": "markdown",
   "metadata": {},
   "source": [
    "## Imports\n",
    "\n",
    "There are several libraries which are external to what is provided by our repository. Please be aware that you will need to be running Python 2.7+, and you will need to have *maptlotlib, sklearn, iPython, numpy, scipy, time* and *itertools* available. Additionally, you will likely need to download *GPy* and *dubins*, non-standard python libraries. You can get these with the following commands (in a terminal):\n",
    "        \n",
    "        ``` pip install GPy ```\n",
    "        ``` pip install dubins ```\n",
    "\n",
    "Or you can visit [this page](https://github.com/SheffieldML/GPy) for GPy, and [this page](https://github.com/AndrewWalker/Dubins-Curves) for dubins download details."
   ]
  },
  {
   "cell_type": "code",
   "execution_count": 1,
   "metadata": {},
   "outputs": [],
   "source": [
    "#standard imports\n",
    "import os\n",
    "import time\n",
    "import sys\n",
    "import logging\n",
    "import numpy as np\n",
    "\n",
    "#repository libraries, which contain calls for matplotlib, GPy, dubins, etc.\n",
    "import aq_library as aqlib\n",
    "import mcts_library as mctslib\n",
    "import gpmodel_library as gplib \n",
    "import evaluation_library as evalib \n",
    "import paths_library as pathlib \n",
    "import envmodel_library as envlib \n",
    "import robot_library as roblib\n",
    "import obstacles as obslib"
   ]
  },
  {
   "cell_type": "markdown",
   "metadata": {},
   "source": [
    "## Default Parameters\n",
    "We use a few \"global\" variables to parameterize our robot and our environment. \n",
    "\n",
    "* SEED - specifies a foundational distribution from which the environment function can be drawn. Takes on any number 0 through 1 million\n",
    "* REWARD_FUNCTION - specifies how a piece of information/an observation by the robot is valued; can take the value *mes* for Maximum Entropy Search value, *mean* for the Upper Confidence Bound value, or *exp_improve* for the Expected Improvement Value\n",
    "* PATHSET - the path primitives available to the vehicle; can take on the value *fully_reachable* for point-to-point or *dubins* for a pre-specified set of dubins curves\n",
    "* USE_COST - a boolean for whether to consider path length when planning\n",
    "* NONMYOPIC - a boolean for whether the planner that the robot uses should be myopic or nonmyopic\n",
    "* GOAL-ONLY - a boolean for whether only the destination point (goal) is used to determine the reward of a trajectory, or whether the entire trajectory is considered\n",
    "* TREE_TYPE - for a nonmyopic planner, the search tree can be selected; can take on the value *belief* for a classical Monte Carlo Search Tree or *dpw* for a tree which utilizes progressive-widening techniques\n",
    "\n",
    "* MIN_COLOR - for plotting, the value of the smallest observation available\n",
    "* MAX_COLOR - for plotting, the value of the largest observation available"
   ]
  },
  {
   "cell_type": "code",
   "execution_count": 2,
   "metadata": {},
   "outputs": [],
   "source": [
    "# You can set these depending on the type of robot and environment you want to generate\n",
    "SEED =  0\n",
    "REWARD_FUNCTION = 'mes' #robot will use Maximum Value Information as value function\n",
    "PATHSET = 'dubins' #robot will have a set of pre-defined action sets to use for each step of planning\n",
    "USE_COST = False #since all of the path options will be nominally the same length anyway in the dubins setting, robot doesn't consider path length cost\n",
    "NONMYOPIC = True #robot will consider future outcomes for each action\n",
    "GOAL_ONLY = False #robot will consider the whole trajectory with respect to reward\n",
    "TREE_TYPE = 'dpw' #robot will use progressive widening in the search tree\n",
    "\n",
    "# Parameters for plotting based on the seed world information\n",
    "MIN_COLOR = -25.\n",
    "MAX_COLOR = 25."
   ]
  },
  {
   "cell_type": "markdown",
   "metadata": {},
   "source": [
    "## Logging and IPython Set-Up\n",
    "The next two code cells set up a logging system which will write files to your local machine; saving the mission run for later review, and allowing the figures and other elements that will generate during a simulated mission to populate within this notebook."
   ]
  },
  {
   "cell_type": "code",
   "execution_count": 3,
   "metadata": {},
   "outputs": [],
   "source": [
    "# Set up paths for logging the data from the simulation run\n",
    "if not os.path.exists('./figures/' + str(REWARD_FUNCTION)): \n",
    "    os.makedirs('./figures/' + str(REWARD_FUNCTION))\n",
    "logging.basicConfig(filename = './figures/'+ REWARD_FUNCTION + '/robot.log', level = logging.INFO)\n",
    "logger = logging.getLogger('robot')"
   ]
  },
  {
   "cell_type": "code",
   "execution_count": 4,
   "metadata": {},
   "outputs": [],
   "source": [
    "%matplotlib inline\n",
    "%load_ext autoreload\n",
    "%aimport ipp_library\n",
    "%autoreload 1"
   ]
  },
  {
   "cell_type": "markdown",
   "metadata": {},
   "source": [
    "## Creating the Environment\n",
    "\n",
    "We will establish a \"world\" in which our robot will explore. We will use the *obstacles* and *Environment Library* in order to create these."
   ]
  },
  {
   "cell_type": "code",
   "execution_count": 5,
   "metadata": {},
   "outputs": [],
   "source": [
    "# First, establish the extent of the world; assume rectangular\n",
    "ranges = (0., 10., 0., 10.)"
   ]
  },
  {
   "cell_type": "markdown",
   "metadata": {},
   "source": [
    "### Obstacles\n",
    "We can create a number of different types of obstacle worlds. Examples below."
   ]
  },
  {
   "cell_type": "code",
   "execution_count": 6,
   "metadata": {},
   "outputs": [],
   "source": [
    "ow = obslib.FreeWorld() #a world without obstacles"
   ]
  },
  {
   "cell_type": "code",
   "execution_count": 7,
   "metadata": {},
   "outputs": [
    {
     "data": {
      "image/png": "[encoded data removed]",
      "text/plain": [
       "<matplotlib.figure.Figure at 0x7f3d633edb90>"
      ]
     },
     "metadata": {
      "needs_background": "light"
     },
     "output_type": "display_data"
    }
   ],
   "source": [
    "ow_channel = obslib.ChannelWorld(extent=ranges, \n",
    "                                 opening_location=(3.5, 7.), \n",
    "                                 opening_size= 3., \n",
    "                                 wall_thickness=0.3)\n",
    "ow_channel.draw_obstacles()"
   ]
  },
  {
   "cell_type": "code",
   "execution_count": 8,
   "metadata": {},
   "outputs": [
    {
     "data": {
      "image/png": "[encoded data removed]",
      "text/plain": [
       "<matplotlib.figure.Figure at 0x7f3d63411ad0>"
      ]
     },
     "metadata": {
      "needs_background": "light"
     },
     "output_type": "display_data"
    }
   ],
   "source": [
    "ow_bug = obslib.BugTrap(extent=ranges, \n",
    "                        opening_location=(2.2, 3.0), \n",
    "                        opening_size=4.6, \n",
    "                        orientation = 'left', \n",
    "                        width = 5.0)\n",
    "ow_bug.draw_obstacles()"
   ]
  },
  {
   "cell_type": "code",
   "execution_count": 9,
   "metadata": {},
   "outputs": [
    {
     "data": {
      "image/png": "[encoded data removed]",
      "text/plain": [
       "<matplotlib.figure.Figure at 0x7f3d63305510>"
      ]
     },
     "metadata": {
      "needs_background": "light"
     },
     "output_type": "display_data"
    }
   ],
   "source": [
    "ow_blocks = obslib.BlockWorld(extent=ranges,\n",
    "                              num_blocks=12, \n",
    "                              dim_blocks=(1., 1.), \n",
    "                              centers=[(2.5, 2.5), (7.,4.), (5., 8.), (8.75, 6.), (3.5,6.), (6.,1.5), (1.75,5.), (6.2,6.), (8.,8.5), (4.2, 3.8), (8.75,2.5), (2.2,8.2)])\n",
    "ow_blocks.draw_obstacles()"
   ]
  },
  {
   "cell_type": "markdown",
   "metadata": {},
   "source": [
    "### Function\n",
    "Now, we need to create the underlying function that we want the robot to discover."
   ]
  },
  {
   "cell_type": "code",
   "execution_count": 10,
   "metadata": {},
   "outputs": [
    {
     "name": "stdout",
     "output_type": "stream",
     "text": [
      "Generating environment for time 0\n",
      "Current environment in violation of boundary constraint. Regenerating!\n"
     ]
    },
    {
     "ename": "ValueError",
     "evalue": "all the input arrays must have same number of dimensions",
     "output_type": "error",
     "traceback": [
      "\u001b[0;31m---------------------------------------------------------------------------\u001b[0m",
      "\u001b[0;31mValueError\u001b[0m                                Traceback (most recent call last)",
      "\u001b[0;32m<ipython-input-10-84a8a27184f8>\u001b[0m in \u001b[0;36m<module>\u001b[0;34m()\u001b[0m\n\u001b[1;32m      8\u001b[0m                            \u001b[0mMAX_COLOR\u001b[0m\u001b[0;34m=\u001b[0m\u001b[0mMAX_COLOR\u001b[0m\u001b[0;34m,\u001b[0m\u001b[0;34m\u001b[0m\u001b[0m\n\u001b[1;32m      9\u001b[0m                            \u001b[0mobstacle_world\u001b[0m \u001b[0;34m=\u001b[0m \u001b[0mow\u001b[0m\u001b[0;34m,\u001b[0m\u001b[0;34m\u001b[0m\u001b[0m\n\u001b[0;32m---> 10\u001b[0;31m                            noise=10.0)\n\u001b[0m",
      "\u001b[0;32m/home/dabinnkim/code/informative-path-planning/envmodel_library.pyc\u001b[0m in \u001b[0;36m__init__\u001b[0;34m(self, ranges, NUM_PTS, variance, lengthscale, noise, visualize, seed, dim, model, MIN_COLOR, MAX_COLOR, obstacle_world, time_duration)\u001b[0m\n\u001b[1;32m    185\u001b[0m                         \u001b[0mnp\u001b[0m\u001b[0;34m.\u001b[0m\u001b[0mrandom\u001b[0m\u001b[0;34m.\u001b[0m\u001b[0mseed\u001b[0m\u001b[0;34m(\u001b[0m\u001b[0mseed\u001b[0m\u001b[0;34m)\u001b[0m\u001b[0;34m\u001b[0m\u001b[0m\n\u001b[1;32m    186\u001b[0m                         \u001b[0mobservations\u001b[0m \u001b[0;34m=\u001b[0m \u001b[0mself\u001b[0m\u001b[0;34m.\u001b[0m\u001b[0mGP\u001b[0m\u001b[0;34m.\u001b[0m\u001b[0mposterior_samples\u001b[0m\u001b[0;34m(\u001b[0m\u001b[0mdata\u001b[0m\u001b[0;34m[\u001b[0m\u001b[0;36m1\u001b[0m\u001b[0;34m:\u001b[0m\u001b[0;34m,\u001b[0m \u001b[0;34m:\u001b[0m\u001b[0;34m]\u001b[0m\u001b[0;34m,\u001b[0m \u001b[0mfull_cov\u001b[0m \u001b[0;34m=\u001b[0m \u001b[0mTrue\u001b[0m\u001b[0;34m,\u001b[0m \u001b[0msize\u001b[0m\u001b[0;34m=\u001b[0m\u001b[0;36m1\u001b[0m\u001b[0;34m)\u001b[0m\u001b[0;34m\u001b[0m\u001b[0m\n\u001b[0;32m--> 187\u001b[0;31m                         \u001b[0mself\u001b[0m\u001b[0;34m.\u001b[0m\u001b[0mGP\u001b[0m\u001b[0;34m.\u001b[0m\u001b[0madd_data\u001b[0m\u001b[0;34m(\u001b[0m\u001b[0mdata\u001b[0m\u001b[0;34m[\u001b[0m\u001b[0;36m1\u001b[0m\u001b[0;34m:\u001b[0m\u001b[0;34m,\u001b[0m \u001b[0;34m:\u001b[0m\u001b[0;34m]\u001b[0m\u001b[0;34m,\u001b[0m \u001b[0mobservations\u001b[0m\u001b[0;34m)\u001b[0m\u001b[0;34m\u001b[0m\u001b[0m\n\u001b[0m\u001b[1;32m    188\u001b[0m                     \u001b[0;32melse\u001b[0m\u001b[0;34m:\u001b[0m\u001b[0;34m\u001b[0m\u001b[0m\n\u001b[1;32m    189\u001b[0m                         \u001b[0mnp\u001b[0m\u001b[0;34m.\u001b[0m\u001b[0mrandom\u001b[0m\u001b[0;34m.\u001b[0m\u001b[0mseed\u001b[0m\u001b[0;34m(\u001b[0m\u001b[0mseed\u001b[0m\u001b[0;34m)\u001b[0m\u001b[0;34m\u001b[0m\u001b[0m\n",
      "\u001b[0;32m/home/dabinnkim/code/informative-path-planning/gpmodel_library.pyc\u001b[0m in \u001b[0;36madd_data\u001b[0;34m(self, xvals, zvals)\u001b[0m\n\u001b[1;32m    119\u001b[0m             \u001b[0mself\u001b[0m\u001b[0;34m.\u001b[0m\u001b[0mzvals\u001b[0m \u001b[0;34m=\u001b[0m \u001b[0mzvals\u001b[0m\u001b[0;34m\u001b[0m\u001b[0m\n\u001b[1;32m    120\u001b[0m         \u001b[0;32melse\u001b[0m\u001b[0;34m:\u001b[0m\u001b[0;34m\u001b[0m\u001b[0m\n\u001b[0;32m--> 121\u001b[0;31m             \u001b[0mself\u001b[0m\u001b[0;34m.\u001b[0m\u001b[0mzvals\u001b[0m \u001b[0;34m=\u001b[0m \u001b[0mnp\u001b[0m\u001b[0;34m.\u001b[0m\u001b[0mvstack\u001b[0m\u001b[0;34m(\u001b[0m\u001b[0;34m[\u001b[0m\u001b[0mself\u001b[0m\u001b[0;34m.\u001b[0m\u001b[0mzvals\u001b[0m\u001b[0;34m,\u001b[0m \u001b[0mzvals\u001b[0m\u001b[0;34m]\u001b[0m\u001b[0;34m)\u001b[0m\u001b[0;34m\u001b[0m\u001b[0m\n\u001b[0m\u001b[1;32m    122\u001b[0m \u001b[0;34m\u001b[0m\u001b[0m\n\u001b[1;32m    123\u001b[0m         \u001b[0;31m# If the model hasn't been created yet (can't be created until we have data), create GPy model\u001b[0m\u001b[0;34m\u001b[0m\u001b[0;34m\u001b[0m\u001b[0m\n",
      "\u001b[0;32m/home/dabinnkim/.local/lib/python2.7/site-packages/numpy/core/shape_base.pyc\u001b[0m in \u001b[0;36mvstack\u001b[0;34m(tup)\u001b[0m\n\u001b[1;32m    281\u001b[0m     \"\"\"\n\u001b[1;32m    282\u001b[0m     \u001b[0m_warn_for_nonsequence\u001b[0m\u001b[0;34m(\u001b[0m\u001b[0mtup\u001b[0m\u001b[0;34m)\u001b[0m\u001b[0;34m\u001b[0m\u001b[0m\n\u001b[0;32m--> 283\u001b[0;31m     \u001b[0;32mreturn\u001b[0m \u001b[0m_nx\u001b[0m\u001b[0;34m.\u001b[0m\u001b[0mconcatenate\u001b[0m\u001b[0;34m(\u001b[0m\u001b[0;34m[\u001b[0m\u001b[0matleast_2d\u001b[0m\u001b[0;34m(\u001b[0m\u001b[0m_m\u001b[0m\u001b[0;34m)\u001b[0m \u001b[0;32mfor\u001b[0m \u001b[0m_m\u001b[0m \u001b[0;32min\u001b[0m \u001b[0mtup\u001b[0m\u001b[0;34m]\u001b[0m\u001b[0;34m,\u001b[0m \u001b[0;36m0\u001b[0m\u001b[0;34m)\u001b[0m\u001b[0;34m\u001b[0m\u001b[0m\n\u001b[0m\u001b[1;32m    284\u001b[0m \u001b[0;34m\u001b[0m\u001b[0m\n\u001b[1;32m    285\u001b[0m \u001b[0;34m\u001b[0m\u001b[0m\n",
      "\u001b[0;31mValueError\u001b[0m: all the input arrays must have same number of dimensions"
     ]
    }
   ],
   "source": [
    "world = envlib.Environment(ranges = ranges,\n",
    "                           NUM_PTS = 20, \n",
    "                           variance = 100.0, \n",
    "                           lengthscale = 1.0, \n",
    "                           visualize = True,\n",
    "                           seed = SEED,\n",
    "                           MIN_COLOR=MIN_COLOR, \n",
    "                           MAX_COLOR=MAX_COLOR, \n",
    "                           obstacle_world = ow,\n",
    "                           noise=10.0)"
   ]
  },
  {
   "cell_type": "markdown",
   "metadata": {},
   "source": [
    "## Evaluation\n",
    "\n",
    "We use the *Evaluation Library* in order to create an \"evaluator\" object which can be used by the robot to determine how well it is doing as it explores."
   ]
  },
  {
   "cell_type": "code",
   "execution_count": 17,
   "metadata": {},
   "outputs": [
    {
     "name": "stdout",
     "output_type": "stream",
     "text": [
      "World max value 27.744079714634324 at location [2.10526316 1.05263158]\n"
     ]
    }
   ],
   "source": [
    "# Create the evaluation class used to quantify the simulation metrics\n",
    "evaluation = evalib.Evaluation(world = world, reward_function = REWARD_FUNCTION)"
   ]
  },
  {
   "cell_type": "markdown",
   "metadata": {},
   "source": [
    "## The Robot\n",
    "Finally, we establish our point robot using a number of different parameters, which are fully detailed in the *Robot Library* in this repository."
   ]
  },
  {
   "cell_type": "code",
   "execution_count": 23,
   "metadata": {},
   "outputs": [],
   "source": [
    "robot = roblib.Robot(sample_world = world.sample_value, #function handle for collecting observations\n",
    "                     start_loc = (5.0, 5.0, 0.0), #where robot is instantiated\n",
    "                     extent = ranges, #extent of the explorable environment\n",
    "                     kernel_file = None,\n",
    "                     kernel_dataset = None,\n",
    "                     #prior_dataset =  (data, observations), \n",
    "                     prior_dataset = None,\n",
    "                     init_lengthscale = 1.0, \n",
    "                     init_variance = 100.0, \n",
    "                     noise = 10.0001,\n",
    "                     #noise = 0.5000,\n",
    "                     path_generator = PATHSET, #options: default, dubins, equal_dubins, fully_reachable_goal, fully_reachable_step\n",
    "                     goal_only = GOAL_ONLY, #select only if using fully reachable step and you want the reward of the step to only be the goal\n",
    "                     frontier_size = 15,\n",
    "                     horizon_length = 1.5, \n",
    "                     turning_radius = 0.05,\n",
    "                     sample_step = 0.5,\n",
    "                     evaluation = evaluation, \n",
    "                     f_rew = REWARD_FUNCTION, \n",
    "                     create_animation = True, #logs images to the file folder\n",
    "                     learn_params = False, #if kernel params should be trained online\n",
    "                     nonmyopic = NONMYOPIC,\n",
    "                     discretization = (20, 20), #parameterizes the fully reachable sets\n",
    "                     use_cost = USE_COST, #select if you want to use a cost heuristic\n",
    "                     MIN_COLOR = MIN_COLOR,\n",
    "                     MAX_COLOR = MAX_COLOR,\n",
    "                     computation_budget = 250.0,\n",
    "                     rollout_length = 5,\n",
    "                     obstacle_world = ow, \n",
    "                     tree_type = TREE_TYPE) "
   ]
  },
  {
   "cell_type": "markdown",
   "metadata": {},
   "source": [
    "## Executing a Mission\n",
    "We have created simple method calls within the robot class in order to execute a mission."
   ]
  },
  {
   "cell_type": "code",
   "execution_count": 24,
   "metadata": {},
   "outputs": [
    {
     "name": "stdout",
     "output_type": "stream",
     "text": [
      "[ 0 ] Current Location:   (5.0, 5.0, 0.0)\n",
      "Current predicted max and value: \t[0. 0.] \t0.0\n",
      "Setting c to : 1.0\n",
      "Rollouts completed in 1.68485593796s\n",
      "Number of rollouts: 250\n",
      "# nodes in tree: 10950\n",
      "[(17, 5.0), (17, 5.0), (17, 5.0), (17, 5.0), (16, 5.0), (17, 5.0), (16, 5.0), (16, 5.0), (17, 5.0), (16, 5.0), (16, 5.0), (17, 5.0), (17, 5.0), (17, 5.0), (17, 5.0)]\n",
      "[ 1 ] Current Location:   (5.335149778313376, 6.44263505832286, 1.3695422350712745)\n",
      "Current predicted max and value: \t[5.51724138 6.89655172] \t4.9449031356635995\n",
      "Setting c to : 1.0\n",
      "Starting global optimization 0 of 3\n",
      "Max Value in Optimization \t \t[23.94244467]\n",
      "Starting global optimization 1 of 3\n",
      "Max Value in Optimization \t \t[31.98301938]\n",
      "Starting global optimization 2 of 3\n",
      "Max Value in Optimization \t \t[36.57238735]\n",
      "Rollouts completed in 3.03742408752s\n",
      "Number of rollouts: 250\n",
      "# nodes in tree: 8230\n",
      "[(2, 3.1077275376689384), (2, 3.58387482401934), (2, 3.7229715318278624), (2, 3.7558707470018127), (3, 4.270147255360079), (4, 4.405765696072762), (3, 4.198927261527207), (3, 3.9255601560293827), (5, 4.517367684610121), (4, 4.454761894099985), (208, 6.358245430556713), (4, 4.331220328506457), (3, 4.156109293669881), (2, 3.5408666670084914), (3, 4.136676628543246)]\n",
      "[ 2 ] Current Location:   (4.259038641062613, 7.475699947544114, 2.3926666608418206)\n",
      "Current predicted max and value: \t[5.51724138 6.89655172] \t5.930126448930239\n",
      "Setting c to : 1.0\n",
      "Starting global optimization 0 of 3\n",
      "Max Value in Optimization \t \t[24.67027073]\n",
      "Starting global optimization 1 of 3\n",
      "Max Value in Optimization \t \t[22.84316292]\n",
      "Starting global optimization 2 of 3\n",
      "Max Value in Optimization \t \t[19.35874949]\n",
      "Rollouts completed in 2.94990706444s\n",
      "Number of rollouts: 250\n",
      "# nodes in tree: 5850\n",
      "[(1, 4.944418907477537), (2, 5.28882452254316), (1, 5.020513905729065), (4, 6.313293979466501), (6, 6.903245003847236), (2, 5.967241192850201), (6, 6.869617795598372), (3, 6.3562579863428), (208, 8.895293274480546), (6, 6.9334297579946), (2, 5.897951301342231), (3, 6.410295962462153), (2, 5.786715101608825), (2, 5.041674254702767), (2, 5.978685199082117)]\n",
      "[ 3 ] Current Location:   (2.885574574067233, 8.077902643472463, 2.730262550672748)\n",
      "Current predicted max and value: \t[2.4137931  8.27586207] \t7.116810257554767\n",
      "Setting c to : 1.0\n",
      "Starting global optimization 0 of 3\n",
      "Max Value in Optimization \t \t[21.22854989]\n",
      "Starting global optimization 1 of 3\n",
      "Max Value in Optimization \t \t[31.36711827]\n",
      "Starting global optimization 2 of 3\n",
      "Max Value in Optimization \t \t[17.73270349]\n",
      "Rollouts completed in 2.95842885971s\n",
      "Number of rollouts: 250\n",
      "# nodes in tree: 5975\n",
      "[(1, 4.519686072096609), (2, 5.5794392771617725), (1, 4.790894682509349), (3, 5.917023886333531), (5, 6.510178778232175), (3, 6.139472687407177), (3, 5.986859436162365), (2, 5.3439589643808185), (3, 5.876927665210651), (6, 6.643801209201784), (2, 5.463834714992711), (209, 8.853979382659256), (2, 5.394838306459221), (3, 6.130068223224929), (5, 6.547247473041102)]\n",
      "[ 4 ] Current Location:   (2.0015725969398335, 6.889600581772427, 4.0998047857440225)\n",
      "Current predicted max and value: \t[2.06896552 7.5862069 ] \t12.793833672574113\n",
      "Setting c to : 1.0\n",
      "Starting global optimization 0 of 3\n",
      "Max Value in Optimization \t \t[26.58019643]\n",
      "Starting global optimization 1 of 3\n",
      "Max Value in Optimization \t \t[28.06659533]\n",
      "Starting global optimization 2 of 3\n",
      "Max Value in Optimization \t \t[25.34701714]\n",
      "Rollouts completed in 2.97776794434s\n",
      "Number of rollouts: 250\n",
      "# nodes in tree: 5009\n",
      "[(2, 4.729534603215753), (2, 4.890939507840167), (2, 5.013884923123339), (2, 5.098192585378339), (2, 5.269801482555728), (2, 5.404990813932779), (226, 8.464661349802459), (2, 5.225112247908052), (2, 5.039005998843944), (2, 5.584139701327141), (2, 5.3472871581150105), (1, 4.824550450559592), (1, 4.774009123012092), (1, 4.79687071267464), (1, 4.5990917238666)]\n"
     ]
    },
    {
     "data": {
      "image/png": "[encoded data removed]",
      "text/plain": [
       "<matplotlib.figure.Figure at 0x7f83e730d590>"
      ]
     },
     "metadata": {},
     "output_type": "display_data"
    }
   ],
   "source": [
    "# Establisht the number of \"steps\" or \"actions\" the robot should take in the total mission using T\n",
    "robot.planner(T = 5) #robot will plan 5 actions\n",
    "robot.visualize_trajectory(screen = True) #creates a summary trajectory image\n",
    "# robot.plot_information() #plots all of the metrics of interest"
   ]
  },
  {
   "cell_type": "code",
   "execution_count": null,
   "metadata": {},
   "outputs": [],
   "source": []
  }
 ],
 "metadata": {
  "kernelspec": {
   "display_name": "Python 2",
   "language": "python",
   "name": "python2"
  },
  "language_info": {
   "codemirror_mode": {
    "name": "ipython",
    "version": 2
   },
   "file_extension": ".py",
   "mimetype": "text/x-python",
   "name": "python",
   "nbconvert_exporter": "python",
   "pygments_lexer": "ipython2",
   "version": "2.7.17"
  }
 },
 "nbformat": 4,
 "nbformat_minor": 2
}
